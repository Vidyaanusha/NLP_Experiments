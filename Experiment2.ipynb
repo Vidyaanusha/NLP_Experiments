{
  "nbformat": 4,
  "nbformat_minor": 0,
  "metadata": {
    "colab": {
      "name": "Untitled12.ipynb",
      "provenance": [],
      "authorship_tag": "ABX9TyPGMp7NTVjIiy+yM9yjimUV",
      "include_colab_link": true
    },
    "kernelspec": {
      "name": "python3",
      "display_name": "Python 3"
    },
    "language_info": {
      "name": "python"
    }
  },
  "cells": [
    {
      "cell_type": "markdown",
      "metadata": {
        "id": "view-in-github",
        "colab_type": "text"
      },
      "source": [
        "<a href=\"https://colab.research.google.com/github/Vidyaanusha/NLP_Experiments/blob/main/Experiment2.ipynb\" target=\"_parent\"><img src=\"https://colab.research.google.com/assets/colab-badge.svg\" alt=\"Open In Colab\"/></a>"
      ]
    },
    {
      "cell_type": "markdown",
      "metadata": {
        "id": "Cyg_fHtpNyve"
      },
      "source": [
        "**EXPERIMENT 2**"
      ]
    },
    {
      "cell_type": "code",
      "metadata": {
        "colab": {
          "base_uri": "https://localhost:8080/"
        },
        "id": "u2SiZ_0LMblq",
        "outputId": "8fa6cbbe-a2d7-471b-9be1-9e85fa02a3ff"
      },
      "source": [
        "#Tokenize the given text into words and sentences by using three methods (split method, regular expressions and NLTK)\n",
        "\n",
        "text='''There once was a king named Midas who did a good deed for a Satyr. And he was then granted a wish by Dionysus, the god of wine.\n",
        "For his wish, Midas asked that whatever he touched would turn to gold. Despite Dionysus’ efforts to prevent it, Midas pleaded that this was a fantastic wish, and so, it was bestowed.\n",
        "Excited about his newly-earned powers, Midas started touching all kinds of things, turning each item into pure gold.But soon, Midas became hungry.\n",
        "As he picked up a piece of food, he found he couldn’t eat it. It had turned to gold in his hand.Hungry, Midas groaned,\n",
        "“I’ll starve! Perhaps this was not such an excellent wish after all!” Seeing his dismay, Midas’ beloved daughter threw her arms around him to comfort him, and she, too, \n",
        "turned to gold. “The golden touch is no blessing,” Midas cried.'''\n",
        "\n",
        "#Word Tokenization using Split method\n",
        "\n",
        "tokens = text.split()\n",
        "print(tokens)\n",
        "print(\"No.of tokens : \", len(tokens))\n",
        "\n"
      ],
      "execution_count": 7,
      "outputs": [
        {
          "output_type": "stream",
          "name": "stdout",
          "text": [
            "['There', 'once', 'was', 'a', 'king', 'named', 'Midas', 'who', 'did', 'a', 'good', 'deed', 'for', 'a', 'Satyr.', 'And', 'he', 'was', 'then', 'granted', 'a', 'wish', 'by', 'Dionysus,', 'the', 'god', 'of', 'wine.', 'For', 'his', 'wish,', 'Midas', 'asked', 'that', 'whatever', 'he', 'touched', 'would', 'turn', 'to', 'gold.', 'Despite', 'Dionysus’', 'efforts', 'to', 'prevent', 'it,', 'Midas', 'pleaded', 'that', 'this', 'was', 'a', 'fantastic', 'wish,', 'and', 'so,', 'it', 'was', 'bestowed.', 'Excited', 'about', 'his', 'newly-earned', 'powers,', 'Midas', 'started', 'touching', 'all', 'kinds', 'of', 'things,', 'turning', 'each', 'item', 'into', 'pure', 'gold.But', 'soon,', 'Midas', 'became', 'hungry.', 'As', 'he', 'picked', 'up', 'a', 'piece', 'of', 'food,', 'he', 'found', 'he', 'couldn’t', 'eat', 'it.', 'It', 'had', 'turned', 'to', 'gold', 'in', 'his', 'hand.Hungry,', 'Midas', 'groaned,', '“I’ll', 'starve!', 'Perhaps', 'this', 'was', 'not', 'such', 'an', 'excellent', 'wish', 'after', 'all!”', 'Seeing', 'his', 'dismay,', 'Midas’', 'beloved', 'daughter', 'threw', 'her', 'arms', 'around', 'him', 'to', 'comfort', 'him,', 'and', 'she,', 'too,', 'turned', 'to', 'gold.', '“The', 'golden', 'touch', 'is', 'no', 'blessing,”', 'Midas', 'cried.']\n",
            "No.of tokens :  146\n"
          ]
        }
      ]
    },
    {
      "cell_type": "code",
      "metadata": {
        "colab": {
          "base_uri": "https://localhost:8080/"
        },
        "id": "7963iXgxQM81",
        "outputId": "243fcf26-3491-418c-c463-f34c3cb03005"
      },
      "source": [
        "text='''There once was a king named Midas who did a good deed for a Satyr. And he was then granted a wish by Dionysus, the god of wine.\n",
        "For his wish, Midas asked that whatever he touched would turn to gold. Despite Dionysus’ efforts to prevent it, Midas pleaded that this was a fantastic wish, and so, it was bestowed.\n",
        "Excited about his newly-earned powers, Midas started touching all kinds of things, turning each item into pure gold.But soon, Midas became hungry.\n",
        "As he picked up a piece of food, he found he couldn’t eat it. It had turned to gold in his hand.Hungry, Midas groaned,\n",
        "“I’ll starve! Perhaps this was not such an excellent wish after all!” Seeing his dismay, Midas’ beloved daughter threw her arms around him to comfort him, and she, too, \n",
        "turned to gold. “The golden touch is no blessing,” Midas cried.'''\n",
        "\n",
        "#Sentence Tokenization using method\n",
        "\n",
        "sentence= text.split('.')\n",
        "print(sentence)\n",
        "print(\"No.of sentences : \", len(sentence))\n"
      ],
      "execution_count": 6,
      "outputs": [
        {
          "output_type": "stream",
          "name": "stdout",
          "text": [
            "['There once was a king named Midas who did a good deed for a Satyr', ' And he was then granted a wish by Dionysus, the god of wine', '\\nFor his wish, Midas asked that whatever he touched would turn to gold', ' Despite Dionysus’ efforts to prevent it, Midas pleaded that this was a fantastic wish, and so, it was bestowed', '\\nExcited about his newly-earned powers, Midas started touching all kinds of things, turning each item into pure gold', 'But soon, Midas became hungry', '\\nAs he picked up a piece of food, he found he couldn’t eat it', ' It had turned to gold in his hand', 'Hungry, Midas groaned,\\n“I’ll starve! Perhaps this was not such an excellent wish after all!” Seeing his dismay, Midas’ beloved daughter threw her arms around him to comfort him, and she, too, \\nturned to gold', ' “The golden touch is no blessing,” Midas cried', '']\n",
            "No.of sentences :  11\n"
          ]
        }
      ]
    },
    {
      "cell_type": "code",
      "metadata": {
        "id": "VPlVtvK-Ov9T"
      },
      "source": [
        "import re"
      ],
      "execution_count": 4,
      "outputs": []
    },
    {
      "cell_type": "code",
      "metadata": {
        "colab": {
          "base_uri": "https://localhost:8080/"
        },
        "id": "_PZXM-LCOyzp",
        "outputId": "609cf9f0-78b0-4eb0-b281-af699cceac98"
      },
      "source": [
        "#Word Tokenization using Regular Expression\n",
        "\n",
        "tokens = re.findall(\"[\\w']+\", text)  \n",
        "print(tokens)\n",
        "print(\"No.of tokens : \", len(tokens))\n",
        "\n",
        "#Sentence Tokenization using Regular Expression\n",
        "\n",
        "sentence= re.compile('[.?!] ').split(text)\n",
        "print(sentence)\n",
        "print(\"No.of sentences : \", len(sentence))\n",
        "\n"
      ],
      "execution_count": 8,
      "outputs": [
        {
          "output_type": "stream",
          "name": "stdout",
          "text": [
            "['There', 'once', 'was', 'a', 'king', 'named', 'Midas', 'who', 'did', 'a', 'good', 'deed', 'for', 'a', 'Satyr', 'And', 'he', 'was', 'then', 'granted', 'a', 'wish', 'by', 'Dionysus', 'the', 'god', 'of', 'wine', 'For', 'his', 'wish', 'Midas', 'asked', 'that', 'whatever', 'he', 'touched', 'would', 'turn', 'to', 'gold', 'Despite', 'Dionysus', 'efforts', 'to', 'prevent', 'it', 'Midas', 'pleaded', 'that', 'this', 'was', 'a', 'fantastic', 'wish', 'and', 'so', 'it', 'was', 'bestowed', 'Excited', 'about', 'his', 'newly', 'earned', 'powers', 'Midas', 'started', 'touching', 'all', 'kinds', 'of', 'things', 'turning', 'each', 'item', 'into', 'pure', 'gold', 'But', 'soon', 'Midas', 'became', 'hungry', 'As', 'he', 'picked', 'up', 'a', 'piece', 'of', 'food', 'he', 'found', 'he', 'couldn', 't', 'eat', 'it', 'It', 'had', 'turned', 'to', 'gold', 'in', 'his', 'hand', 'Hungry', 'Midas', 'groaned', 'I', 'll', 'starve', 'Perhaps', 'this', 'was', 'not', 'such', 'an', 'excellent', 'wish', 'after', 'all', 'Seeing', 'his', 'dismay', 'Midas', 'beloved', 'daughter', 'threw', 'her', 'arms', 'around', 'him', 'to', 'comfort', 'him', 'and', 'she', 'too', 'turned', 'to', 'gold', 'The', 'golden', 'touch', 'is', 'no', 'blessing', 'Midas', 'cried']\n",
            "No.of tokens :  151\n",
            "['There once was a king named Midas who did a good deed for a Satyr', 'And he was then granted a wish by Dionysus, the god of wine.\\nFor his wish, Midas asked that whatever he touched would turn to gold', 'Despite Dionysus’ efforts to prevent it, Midas pleaded that this was a fantastic wish, and so, it was bestowed.\\nExcited about his newly-earned powers, Midas started touching all kinds of things, turning each item into pure gold.But soon, Midas became hungry.\\nAs he picked up a piece of food, he found he couldn’t eat it', 'It had turned to gold in his hand.Hungry, Midas groaned,\\n“I’ll starve', 'Perhaps this was not such an excellent wish after all!” Seeing his dismay, Midas’ beloved daughter threw her arms around him to comfort him, and she, too, \\nturned to gold', '“The golden touch is no blessing,” Midas cried.']\n",
            "No.of sentences :  6\n"
          ]
        }
      ]
    },
    {
      "cell_type": "code",
      "metadata": {
        "colab": {
          "base_uri": "https://localhost:8080/"
        },
        "id": "9ZbJWLZeRLIi",
        "outputId": "fd562054-0e84-472d-ffda-1daa921547dd"
      },
      "source": [
        "!pip install --user -U nltk"
      ],
      "execution_count": 9,
      "outputs": [
        {
          "output_type": "stream",
          "name": "stdout",
          "text": [
            "Requirement already satisfied: nltk in /usr/local/lib/python3.7/dist-packages (3.2.5)\n",
            "Collecting nltk\n",
            "  Downloading nltk-3.6.5-py3-none-any.whl (1.5 MB)\n",
            "\u001b[K     |████████████████████████████████| 1.5 MB 31.6 MB/s \n",
            "\u001b[?25hRequirement already satisfied: tqdm in /usr/local/lib/python3.7/dist-packages (from nltk) (4.62.3)\n",
            "Requirement already satisfied: click in /usr/local/lib/python3.7/dist-packages (from nltk) (7.1.2)\n",
            "Requirement already satisfied: joblib in /usr/local/lib/python3.7/dist-packages (from nltk) (1.0.1)\n",
            "Collecting regex>=2021.8.3\n",
            "  Downloading regex-2021.10.8-cp37-cp37m-manylinux_2_17_x86_64.manylinux2014_x86_64.whl (748 kB)\n",
            "\u001b[K     |████████████████████████████████| 748 kB 41.9 MB/s \n",
            "\u001b[?25hInstalling collected packages: regex, nltk\n",
            "\u001b[33m  WARNING: The script nltk is installed in '/root/.local/bin' which is not on PATH.\n",
            "  Consider adding this directory to PATH or, if you prefer to suppress this warning, use --no-warn-script-location.\u001b[0m\n",
            "Successfully installed nltk-3.6.5 regex-2021.10.8\n"
          ]
        }
      ]
    },
    {
      "cell_type": "code",
      "metadata": {
        "colab": {
          "base_uri": "https://localhost:8080/"
        },
        "id": "lZ_6paLERPXy",
        "outputId": "13bba8ca-3740-492b-9525-5da5979bf21d"
      },
      "source": [
        "import nltk\n",
        "nltk.download('punkt')\n"
      ],
      "execution_count": 10,
      "outputs": [
        {
          "output_type": "stream",
          "name": "stdout",
          "text": [
            "[nltk_data] Downloading package punkt to /root/nltk_data...\n",
            "[nltk_data]   Unzipping tokenizers/punkt.zip.\n"
          ]
        },
        {
          "output_type": "execute_result",
          "data": {
            "text/plain": [
              "True"
            ]
          },
          "metadata": {},
          "execution_count": 10
        }
      ]
    },
    {
      "cell_type": "code",
      "metadata": {
        "colab": {
          "base_uri": "https://localhost:8080/"
        },
        "id": "z7MKA8VVSQU_",
        "outputId": "faaf9be2-dc7e-45a8-e612-867273b55892"
      },
      "source": [
        "#word tokenization using nltk\n",
        "from nltk.tokenize import word_tokenize \n",
        "tokens = word_tokenize(text)\n",
        "print(tokens)\n",
        "print(\"No.of tokens : \", len(tokens))"
      ],
      "execution_count": 11,
      "outputs": [
        {
          "output_type": "stream",
          "name": "stdout",
          "text": [
            "['There', 'once', 'was', 'a', 'king', 'named', 'Midas', 'who', 'did', 'a', 'good', 'deed', 'for', 'a', 'Satyr', '.', 'And', 'he', 'was', 'then', 'granted', 'a', 'wish', 'by', 'Dionysus', ',', 'the', 'god', 'of', 'wine', '.', 'For', 'his', 'wish', ',', 'Midas', 'asked', 'that', 'whatever', 'he', 'touched', 'would', 'turn', 'to', 'gold', '.', 'Despite', 'Dionysus', '’', 'efforts', 'to', 'prevent', 'it', ',', 'Midas', 'pleaded', 'that', 'this', 'was', 'a', 'fantastic', 'wish', ',', 'and', 'so', ',', 'it', 'was', 'bestowed', '.', 'Excited', 'about', 'his', 'newly-earned', 'powers', ',', 'Midas', 'started', 'touching', 'all', 'kinds', 'of', 'things', ',', 'turning', 'each', 'item', 'into', 'pure', 'gold.But', 'soon', ',', 'Midas', 'became', 'hungry', '.', 'As', 'he', 'picked', 'up', 'a', 'piece', 'of', 'food', ',', 'he', 'found', 'he', 'couldn', '’', 't', 'eat', 'it', '.', 'It', 'had', 'turned', 'to', 'gold', 'in', 'his', 'hand.Hungry', ',', 'Midas', 'groaned', ',', '“', 'I', '’', 'll', 'starve', '!', 'Perhaps', 'this', 'was', 'not', 'such', 'an', 'excellent', 'wish', 'after', 'all', '!', '”', 'Seeing', 'his', 'dismay', ',', 'Midas', '’', 'beloved', 'daughter', 'threw', 'her', 'arms', 'around', 'him', 'to', 'comfort', 'him', ',', 'and', 'she', ',', 'too', ',', 'turned', 'to', 'gold', '.', '“', 'The', 'golden', 'touch', 'is', 'no', 'blessing', ',', '”', 'Midas', 'cried', '.']\n",
            "No.of tokens :  182\n"
          ]
        }
      ]
    },
    {
      "cell_type": "code",
      "metadata": {
        "colab": {
          "base_uri": "https://localhost:8080/"
        },
        "id": "n4Dq7mfcS3s2",
        "outputId": "cf5bc0b6-34be-4e43-9781-f9cb844cf551"
      },
      "source": [
        "#sentence tokenization using nltk\n",
        "from nltk.tokenize import sent_tokenize\n",
        "sentences = sent_tokenize(text)\n",
        "print(sentences)\n",
        "print(\"No.of sentences : \", len(sentences))"
      ],
      "execution_count": 12,
      "outputs": [
        {
          "output_type": "stream",
          "name": "stdout",
          "text": [
            "['There once was a king named Midas who did a good deed for a Satyr.', 'And he was then granted a wish by Dionysus, the god of wine.', 'For his wish, Midas asked that whatever he touched would turn to gold.', 'Despite Dionysus’ efforts to prevent it, Midas pleaded that this was a fantastic wish, and so, it was bestowed.', 'Excited about his newly-earned powers, Midas started touching all kinds of things, turning each item into pure gold.But soon, Midas became hungry.', 'As he picked up a piece of food, he found he couldn’t eat it.', 'It had turned to gold in his hand.Hungry, Midas groaned,\\n“I’ll starve!', 'Perhaps this was not such an excellent wish after all!” Seeing his dismay, Midas’ beloved daughter threw her arms around him to comfort him, and she, too, \\nturned to gold.', '“The golden touch is no blessing,” Midas cried.']\n",
            "No.of sentences :  9\n"
          ]
        }
      ]
    },
    {
      "cell_type": "code",
      "metadata": {
        "colab": {
          "base_uri": "https://localhost:8080/"
        },
        "id": "X0rjRZOATbib",
        "outputId": "7918d721-c6c3-4f2a-855a-47ee6da0dcd4"
      },
      "source": [
        "#Perform stemming on the tokens present in the given sentence\n",
        "\n",
        "from nltk.stem import PorterStemmer\n",
        "porter = PorterStemmer()\n",
        "print(porter.stem(\"dogs\"))\n",
        "print(porter.stem(\"playing\"))"
      ],
      "execution_count": 14,
      "outputs": [
        {
          "output_type": "stream",
          "name": "stdout",
          "text": [
            "dog\n",
            "play\n"
          ]
        }
      ]
    },
    {
      "cell_type": "code",
      "metadata": {
        "colab": {
          "base_uri": "https://localhost:8080/"
        },
        "id": "lARcUMdxUL3W",
        "outputId": "e10efdee-cb6e-418d-8bb7-d4dab83b2173"
      },
      "source": [
        "from nltk.stem import PorterStemmer\n",
        "porter = PorterStemmer()\n",
        "\n",
        "sentence=\"My brother playing football with the small boys and he plays a captain role in the game\"\n",
        "\n",
        "from nltk.tokenize import sent_tokenize, word_tokenize\n",
        "def stemSentence(sentence):\n",
        "    token_words=word_tokenize(sentence)\n",
        "    print(token_words)\n",
        "    stem_sentence=[]\n",
        "    for word in token_words:\n",
        "        stem_sentence.append(porter.stem(word))\n",
        "        stem_sentence.append(\" \")\n",
        "    return \"\".join(stem_sentence)\n",
        "\n",
        "x=stemSentence(sentence)\n",
        "print(\"Sentence after stemming :\", x)"
      ],
      "execution_count": 15,
      "outputs": [
        {
          "output_type": "stream",
          "name": "stdout",
          "text": [
            "['My', 'brother', 'playing', 'football', 'with', 'the', 'small', 'boys', 'and', 'he', 'plays', 'a', 'captian', 'role', 'in', 'the', 'game']\n",
            "Sentence after stemming : My brother play footbal with the small boy and he play a captian role in the game \n"
          ]
        }
      ]
    },
    {
      "cell_type": "code",
      "metadata": {
        "colab": {
          "base_uri": "https://localhost:8080/"
        },
        "id": "6OkK1YDnW3_P",
        "outputId": "ec6a5c95-bc74-4593-829f-90944a82e2bd"
      },
      "source": [
        "import nltk\n",
        "nltk.download('wordnet')"
      ],
      "execution_count": 20,
      "outputs": [
        {
          "output_type": "stream",
          "name": "stdout",
          "text": [
            "[nltk_data] Downloading package wordnet to /root/nltk_data...\n",
            "[nltk_data]   Package wordnet is already up-to-date!\n"
          ]
        },
        {
          "output_type": "execute_result",
          "data": {
            "text/plain": [
              "True"
            ]
          },
          "metadata": {},
          "execution_count": 20
        }
      ]
    },
    {
      "cell_type": "code",
      "metadata": {
        "colab": {
          "base_uri": "https://localhost:8080/"
        },
        "id": "QsCmLMeHVAYx",
        "outputId": "9435c527-9fe5-4c30-d8ca-dcd016b35ae8"
      },
      "source": [
        "#Perform lemmatization on the tokens present in the give sentence.\n",
        "\n",
        "import nltk\n",
        "from nltk.stem import WordNetLemmatizer\n",
        "wordnet_lemmatizer = WordNetLemmatizer()\n",
        "\n",
        "sentence = \"My baby brother crying for the toys. After getting his toys he stop crying and start playing with toys. \"\n",
        "punctuations=\"?:!.,;\"\n",
        "token_words = nltk.word_tokenize(sentence)\n",
        "print(token_words)\n",
        "\n",
        "lemma_sentence=[]\n",
        "for word in token_words:\n",
        "  lemma_sentence.append(wordnet_lemmatizer.lemmatize(word))\n",
        "  lemma_sentence.append(\" \")\n",
        "\n",
        "print(\"lemmas of tokens: \", ''.join(lemma_sentence))"
      ],
      "execution_count": 22,
      "outputs": [
        {
          "output_type": "stream",
          "name": "stdout",
          "text": [
            "['My', 'baby', 'brother', 'crying', 'for', 'the', 'toys', '.', 'After', 'getting', 'his', 'toys', 'he', 'stop', 'crying', 'and', 'start', 'playing', 'with', 'toys', '.']\n",
            "lemmas of tokens:  My baby brother cry for the toy . After getting his toy he stop cry and start playing with toy . \n"
          ]
        }
      ]
    }
  ]
}