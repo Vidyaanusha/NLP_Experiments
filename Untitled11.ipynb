{
  "nbformat": 4,
  "nbformat_minor": 0,
  "metadata": {
    "colab": {
      "name": "Untitled11.ipynb",
      "provenance": [],
      "toc_visible": true,
      "authorship_tag": "ABX9TyP4aDxhEJaJcs4gvHoGwouI",
      "include_colab_link": true
    },
    "kernelspec": {
      "name": "python3",
      "display_name": "Python 3"
    },
    "language_info": {
      "name": "python"
    }
  },
  "cells": [
    {
      "cell_type": "markdown",
      "metadata": {
        "id": "view-in-github",
        "colab_type": "text"
      },
      "source": [
        "<a href=\"https://colab.research.google.com/github/Vidyaanusha/NLP_Experiments/blob/main/Untitled11.ipynb\" target=\"_parent\"><img src=\"https://colab.research.google.com/assets/colab-badge.svg\" alt=\"Open In Colab\"/></a>"
      ]
    },
    {
      "cell_type": "code",
      "metadata": {
        "colab": {
          "base_uri": "https://localhost:8080/",
          "height": 35
        },
        "id": "4OlLMutK0RwB",
        "outputId": "090fa584-0d35-4d3f-ff00-7d53f2b73f19"
      },
      "source": [
        "#Replace all occurrences of 5 with ‘five’ for the given string\n",
        "import re\n",
        "string='My Brother ate 5 cakes and 5 apples '\n",
        "re.sub(r'5', 'five',string)\n"
      ],
      "execution_count": 46,
      "outputs": [
        {
          "output_type": "execute_result",
          "data": {
            "application/vnd.google.colaboratory.intrinsic+json": {
              "type": "string"
            },
            "text/plain": [
              "'My Brother ate five cakes and five apples '"
            ]
          },
          "metadata": {},
          "execution_count": 46
        }
      ]
    },
    {
      "cell_type": "code",
      "metadata": {
        "colab": {
          "base_uri": "https://localhost:8080/"
        },
        "id": "sy2FjKH44uAX",
        "outputId": "7dea6677-d318-4872-a2a0-36182d8117e4"
      },
      "source": [
        "L = ['elephant', 'dog', 'for', 'insert','apples']\n",
        "[x for x in L if not re.search(r'e', x)]"
      ],
      "execution_count": 47,
      "outputs": [
        {
          "output_type": "execute_result",
          "data": {
            "text/plain": [
              "['dog', 'for']"
            ]
          },
          "metadata": {},
          "execution_count": 47
        }
      ]
    },
    {
      "cell_type": "code",
      "metadata": {
        "colab": {
          "base_uri": "https://localhost:8080/"
        },
        "id": "nCrSqYrH3_mc",
        "outputId": "b717b048-92eb-4aa6-b8aa-f3040a31af2c"
      },
      "source": [
        "#For the given input string, display all lines not containing ‘start’ irrespective of case.\n",
        "import re\n",
        "paragraph='''Start to learn english\n",
        "Hi everyone good morning \n",
        "start to complete the course today\n",
        "'''\n",
        "a= re.compile(r'start', flags=re.I)\n",
        "for line in paragraph.split('\\n'):\n",
        "   if not a.search(line):\n",
        "     print(line) "
      ],
      "execution_count": 48,
      "outputs": [
        {
          "output_type": "stream",
          "name": "stdout",
          "text": [
            "Hi everyone good morning \n",
            "\n"
          ]
        }
      ]
    },
    {
      "cell_type": "code",
      "metadata": {
        "colab": {
          "base_uri": "https://localhost:8080/"
        },
        "id": "k4gphesi7iSj",
        "outputId": "1d8426fc-d08c-46fc-fd75-2d81ee27771e"
      },
      "source": [
        "#For the given input list, filter all elements that contains 42 surrounded by word characters\n",
        "List = ['hi42hi', 'hello1423', 'bye6542', 'all4256']\n",
        "[x for x in List if re.search(r'\\B42\\B', x)]"
      ],
      "execution_count": 49,
      "outputs": [
        {
          "output_type": "execute_result",
          "data": {
            "text/plain": [
              "['hi42hi', 'hello1423', 'all4256']"
            ]
          },
          "metadata": {},
          "execution_count": 49
        }
      ]
    },
    {
      "cell_type": "code",
      "metadata": {
        "colab": {
          "base_uri": "https://localhost:8080/"
        },
        "id": "E5zL38ON8WkO",
        "outputId": "3de2e25e-0f88-45ac-f341-172d1ec4a6b7"
      },
      "source": [
        "#Validate the CVV number(It should have 3 or 4 digits, It should have a digit between 0-9, It should not have any alphabets and special characters)\n",
        "def isValidCVVNumber(str):\n",
        "    regex = \"^[0-9]{3,4}$\"\n",
        "    a = re.compile(regex)\n",
        "    if(str == None):\n",
        "        return False\n",
        "    if(re.search(a, str)):\n",
        "        return True\n",
        "    else:\n",
        "        return False\n",
        "s1 = \"4567\"\n",
        "print(isValidCVVNumber(s1))\n",
        "s2 = \"345\"\n",
        "print(isValidCVVNumber(s2))\n",
        "s3 = \"64@a\"\n",
        "print(isValidCVVNumber(s3))\n",
        "s4 = \"9256867\"\n",
        "print(isValidCVVNumber(s4))\n"
      ],
      "execution_count": 50,
      "outputs": [
        {
          "output_type": "stream",
          "name": "stdout",
          "text": [
            "True\n",
            "True\n",
            "False\n",
            "False\n"
          ]
        }
      ]
    },
    {
      "cell_type": "code",
      "metadata": {
        "colab": {
          "base_uri": "https://localhost:8080/"
        },
        "id": "Ts6Bg74q9Sz9",
        "outputId": "6bc10bc0-af42-4b0d-9294-040180c05c9c"
      },
      "source": [
        "#For the given input string, change whole word mall to 1234 only if it is at the start of a line\n",
        "para = '''\n",
        "mall is very tall\n",
        "Call the police\n",
        "wallet is missing in the mall\n",
        "mall tall fall malls'''\n",
        "\n",
        "print(re.sub(r'^mall\\b', '1234', para, flags=re.M))\n"
      ],
      "execution_count": 51,
      "outputs": [
        {
          "output_type": "stream",
          "name": "stdout",
          "text": [
            "\n",
            "1234 is very tall\n",
            "Call the police\n",
            "wallet is missing in the mall\n",
            "1234 tall fall malls\n"
          ]
        }
      ]
    },
    {
      "cell_type": "code",
      "metadata": {
        "colab": {
          "base_uri": "https://localhost:8080/"
        },
        "id": "TY_8tG77-QAB",
        "outputId": "76ba9cba-0146-42fb-b7fc-bf5683cfc28f"
      },
      "source": [
        "#Check whether the given email address is valid or not.\n",
        "import re   \n",
        "regex = '^[a-z0-9]+[\\._]?[a-z0-9]+[@]\\w+[.]\\w{2,3}$'  \n",
        "def check(email):   \n",
        "  if(re.search(regex,email)):   \n",
        "    print(\"Valid Email\")   \n",
        "  else:   \n",
        "    print(\"Invalid Email\")   \n",
        "if __name__ == '__main__' :   \n",
        "  email = \"anusha.sharma@solutions.net\"  \n",
        "  check(email)   \n",
        "  email = \"imrana12576@gmail.com\"\n",
        "  check(email)   \n",
        "  email = \"srinu@a-internetcorner.com\"  \n",
        "  check(email) "
      ],
      "execution_count": 45,
      "outputs": [
        {
          "output_type": "stream",
          "name": "stdout",
          "text": [
            "Valid Email\n",
            "Valid Email\n",
            "Invalid Email\n"
          ]
        }
      ]
    },
    {
      "cell_type": "code",
      "metadata": {
        "colab": {
          "base_uri": "https://localhost:8080/"
        },
        "id": "QZHOLSpFBN2o",
        "outputId": "837689da-8040-48b1-a31b-b0a60bd15fff"
      },
      "source": [
        "#Check whether the Aadhar number is valid or not ( It should have 12 digits, It should not start with 0 and 1, It should not contain any alphabet and special characters, It should have white space after every 4 digits)\n",
        "import re\n",
        "def isValidAadharNumber(str):\n",
        "  regex = (\"^[2-9]{1}[0-9]{3}\\\\\" +\n",
        "             \"s[0-9]{4}\\\\s[0-9]{4}$\")\n",
        "  a= re.compile(regex)\n",
        "  if (str == None):\n",
        "        return False\n",
        "  if(re.search(a, str)):\n",
        "        return True\n",
        "  else:\n",
        "        return False\n",
        "str1 = \"3675 9834 6015 6\"\n",
        "print(isValidAadharNumber(str1))\n",
        "str2 = \"4675 9834 6013\"\n",
        "print(isValidAadharNumber(str2))\n",
        "str3 = \"0175 9834 6012 56\"\n",
        "print(isValidAadharNumber(str3))\n",
        "str4 = \"3675 98AF 60#2\"\n",
        "print(isValidAadharNumber(str4))\n",
        "str5 = \"417598346012\"\n",
        "print(isValidAadharNumber(str5))"
      ],
      "execution_count": 53,
      "outputs": [
        {
          "output_type": "stream",
          "name": "stdout",
          "text": [
            "False\n",
            "True\n",
            "False\n",
            "False\n",
            "False\n"
          ]
        }
      ]
    }
  ]
}