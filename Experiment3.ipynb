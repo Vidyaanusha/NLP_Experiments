{
  "nbformat": 4,
  "nbformat_minor": 0,
  "metadata": {
    "colab": {
      "name": "Untitled13.ipynb",
      "provenance": [],
      "authorship_tag": "ABX9TyOOs1vuI3CqPlHqOzQWk396",
      "include_colab_link": true
    },
    "kernelspec": {
      "name": "python3",
      "display_name": "Python 3"
    },
    "language_info": {
      "name": "python"
    }
  },
  "cells": [
    {
      "cell_type": "markdown",
      "metadata": {
        "id": "view-in-github",
        "colab_type": "text"
      },
      "source": [
        "<a href=\"https://colab.research.google.com/github/Vidyaanusha/NLP_Experiments/blob/main/Experiment3.ipynb\" target=\"_parent\"><img src=\"https://colab.research.google.com/assets/colab-badge.svg\" alt=\"Open In Colab\"/></a>"
      ]
    },
    {
      "cell_type": "markdown",
      "metadata": {
        "id": "PQuMV6WgcahE"
      },
      "source": [
        "**Experiment 3**"
      ]
    },
    {
      "cell_type": "code",
      "metadata": {
        "colab": {
          "base_uri": "https://localhost:8080/"
        },
        "id": "d7LUSciXcT2L",
        "outputId": "b9b009fd-7f05-42bb-e186-0a7a9e766a23"
      },
      "source": [
        "#Write a program to implement the Minimum Edit Distance algorithm using Python\n",
        "import numpy as np\n",
        "\n",
        "def edit_Distance(X, Y):\n",
        "    Xlen, Ylen = len(X), len(Y)\n",
        "    table = np.zeros( (Xlen+1, Ylen+1), dtype=int)\n",
        "\n",
        "    for i in range(1, Xlen+1):\n",
        "        table[i, 0] = table[i-1, 0] + 1  # del cost - 1\n",
        "    \n",
        "    for j in range(1, Ylen+1):\n",
        "        table[0, j] = table[0, j-1] + 1  #ins-cose - 1\n",
        "    \n",
        "    # Recurrence relation\n",
        "    for i in range(1, Xlen+1):\n",
        "        for j in range(1, Ylen+1):\n",
        "            table[i, j] = min(\n",
        "                table[i-1, j] + 1,\n",
        "                table[i, j-1] + 1,\n",
        "                table[i-1, j-1] if (X[i-1]==Y[j-1]) else table[i-1, j-1]+2\n",
        "            )\n",
        "    print(table)\n",
        "    return table[Xlen, Ylen]\n",
        "\n",
        "\n",
        "source = \"extension\"\n",
        "target = \"intention\"\n",
        "print(f'Distance between {source} and {target} is {edit_Distance(source, target)}')"
      ],
      "execution_count": 1,
      "outputs": [
        {
          "output_type": "stream",
          "name": "stdout",
          "text": [
            "[[0 1 2 3 4 5 6 7 8 9]\n",
            " [1 2 3 4 3 4 5 6 7 8]\n",
            " [2 3 4 5 4 5 6 7 8 9]\n",
            " [3 4 5 4 5 6 5 6 7 8]\n",
            " [4 5 6 5 4 5 6 7 8 9]\n",
            " [5 6 5 6 5 4 5 6 7 8]\n",
            " [6 7 6 7 6 5 6 7 8 9]\n",
            " [7 6 7 8 7 6 7 6 7 8]\n",
            " [8 7 8 9 8 7 8 7 6 7]\n",
            " [9 8 7 8 9 8 9 8 7 6]]\n",
            "Distance between extension and intention is 6\n"
          ]
        }
      ]
    }
  ]
}